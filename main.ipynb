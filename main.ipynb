{
 "cells": [
  {
   "attachments": {},
   "cell_type": "markdown",
   "metadata": {},
   "source": [
    "**Table of contents**<a id='toc0_'></a>    \n",
    "- [Preprocessing Utils](#toc1_)    \n",
    "- [Search Engine Theory](#toc2_)    \n",
    "  - [Preprocessing](#toc2_1_)    \n",
    "  - [Inverted Index Construction](#toc2_2_)    \n",
    "  - [TFIDF](#toc2_3_)    \n",
    "  - [Cosine Similarity](#toc2_4_)    \n",
    "- [Search Engine Practical](#toc3_)    \n",
    "  - [Document Collection](#toc3_1_)    \n",
    "  - [Inverted Index Construction](#toc3_2_)    \n",
    "  - [Search Engine Feature](#toc3_3_)    \n",
    "- [Text Classifier](#toc4_)    \n",
    "  - [Get Training Data](#toc4_1_)    \n",
    "  - [MultinomialNB classifier](#toc4_2_)    \n",
    "  - [Metric Report](#toc4_3_)    \n",
    "\n",
    "<!-- vscode-jupyter-toc-config\n",
    "\tnumbering=false\n",
    "\tanchor=true\n",
    "\tflat=false\n",
    "\tminLevel=1\n",
    "\tmaxLevel=6\n",
    "\t/vscode-jupyter-toc-config -->\n",
    "<!-- THIS CELL WILL BE REPLACED ON TOC UPDATE. DO NOT WRITE YOUR TEXT IN THIS CELL -->"
   ]
  },
  {
   "cell_type": "code",
   "execution_count": 22,
   "metadata": {},
   "outputs": [],
   "source": [
    "import pandas as pd\n",
    "import json\n",
    "\n",
    "import requests\n",
    "from bs4 import BeautifulSoup\n",
    "\n",
    "import nltk\n",
    "from nltk.tokenize import word_tokenize\n",
    "from nltk.corpus import stopwords\n",
    "from nltk.stem import WordNetLemmatizer\n",
    "from nltk.corpus import wordnet\n",
    "\n",
    "from sklearn.feature_extraction.text import TfidfVectorizer\n",
    "from sklearn.metrics.pairwise import cosine_similarity\n",
    "\n",
    "from sklearn.feature_extraction.text import CountVectorizer\n",
    "from sklearn.naive_bayes import MultinomialNB\n",
    "from sklearn.model_selection import train_test_split"
   ]
  },
  {
   "attachments": {},
   "cell_type": "markdown",
   "metadata": {},
   "source": [
    "# <a id='toc1_'></a>[Preprocessing Utils](#toc0_)"
   ]
  },
  {
   "cell_type": "code",
   "execution_count": 23,
   "metadata": {},
   "outputs": [],
   "source": [
    "def tokenizer(statement):\n",
    "    # Filter out stop words & special characters\n",
    "    stop_words = set(stopwords.words('english'))\n",
    "    special_characters = '''!()-—[]{};:'\"\\, <>./?@#$%^&*_~+='''\n",
    "    tokens = word_tokenize(statement)\n",
    "    return [token.lower() for token in tokens if token.lower() not in stop_words and token not in special_characters]\n",
    "\n",
    "def lemmatize_word(word):\n",
    "    wordnet_tags = {\"V\": wordnet.VERB, \"R\": wordnet.ADV,\"N\": wordnet.NOUN,\"J\": wordnet.ADJ} \n",
    "    # Get parts of speech tag & determine the class in wordnet\n",
    "    pos_tag = nltk.pos_tag([word])[0][1][0].upper()\n",
    "    pos_tag_class = wordnet_tags.get(pos_tag, wordnet.NOUN)\n",
    "    lemmatizer = WordNetLemmatizer()\n",
    "    # Lemmaitze with Part of Speech Tag to get the pure word\n",
    "    lemma = lemmatizer.lemmatize(word, pos=pos_tag_class)\n",
    "    return lemma\n",
    "\n",
    "def lemmatize_stmt(statement):    \n",
    "    filtered_tokens = tokenizer(statement)\n",
    "    lemmatize_tokens = []\n",
    "    for word in filtered_tokens:\n",
    "        lemma = lemmatize_word(word)\n",
    "        lemmatize_tokens.append(lemma)\n",
    "    return ' '.join(lemmatize_tokens)"
   ]
  },
  {
   "attachments": {},
   "cell_type": "markdown",
   "metadata": {},
   "source": [
    "# <a id='toc2_'></a>[Search Engine Theory](#toc0_)"
   ]
  },
  {
   "attachments": {},
   "cell_type": "markdown",
   "metadata": {},
   "source": [
    "## <a id='toc2_1_'></a>[Preprocessing](#toc0_)\n",
    "Clean and preprocess the documents to remove any irrelevant information, such as HTML tags, punctuation, and stop words (common words like \"the,\" \"is,\" etc.). \n",
    "\n",
    "Additionally, perform other text normalization techniques like stemming or lemmatization to reduce words to their base form."
   ]
  },
  {
   "cell_type": "code",
   "execution_count": 27,
   "metadata": {},
   "outputs": [
    {
     "name": "stdout",
     "output_type": "stream",
     "text": [
      "Tokenizer\n",
      "A phantom studies of a protective trolleys for neonatal radiographic imaging: new equipment to protect the operator from scatter radiating\n",
      "phantom studies protective trolleys neonatal radiographic imaging new equipment protect operator scatter radiating\n",
      "\n",
      "Word & Lemma\n",
      "phantom -> phantom\n",
      "studies -> study\n",
      "protective -> protective\n",
      "trolleys -> trolley\n",
      "neonatal -> neonatal\n",
      "radiographic -> radiographic\n",
      "imaging -> image\n",
      "new -> new\n",
      "equipment -> equipment\n",
      "protect -> protect\n",
      "operator -> operator\n",
      "scatter -> scatter\n",
      "radiating -> radiate\n"
     ]
    }
   ],
   "source": [
    "# Example\n",
    "sample_title = \"A phantom studies of a protective trolleys for neonatal radiographic imaging: new equipment to protect the operator from scatter radiating\"\n",
    "filtered_tokens = tokenizer(sample_title)\n",
    "print('Tokenizer')\n",
    "print(sample_title)\n",
    "print(' '.join(filtered_tokens))\n",
    "print()\n",
    "print('Word & Lemma')\n",
    "for word in filtered_tokens:\n",
    "    lemma = lemmatize_word(word)\n",
    "    print(word, '->', lemma)"
   ]
  },
  {
   "attachments": {},
   "cell_type": "markdown",
   "metadata": {},
   "source": [
    "## <a id='toc2_2_'></a>[Inverted Index Construction](#toc0_)\n",
    "- Allow quick access to documents based on the terms they contain.\n",
    "- Index optimization for space efficiency or query performance"
   ]
  },
  {
   "cell_type": "code",
   "execution_count": 116,
   "metadata": {},
   "outputs": [
    {
     "name": "stdout",
     "output_type": "stream",
     "text": [
      "i [0, 1, 2]\n",
      "like [0, 1, 2]\n",
      "cats. [0]\n",
      "dogs. [1]\n",
      "birds. [2]\n"
     ]
    }
   ],
   "source": [
    "# Example usage\n",
    "documents = [\n",
    "    \"I like cats.\",\n",
    "    \"I like dogs.\",\n",
    "    \"I like birds.\"\n",
    "]\n",
    "\n",
    "inverted_index = {}\n",
    "for doc_id, document in enumerate(documents):\n",
    "    terms = document.lower().split() \n",
    "    for term in terms:\n",
    "        if term not in inverted_index:\n",
    "            inverted_index[term] = [] \n",
    "        inverted_index[term].append(doc_id)  \n",
    "\n",
    "# Print the inverted index\n",
    "for term, doc_ids in inverted_index.items():\n",
    "    print(term, doc_ids)"
   ]
  },
  {
   "attachments": {},
   "cell_type": "markdown",
   "metadata": {},
   "source": [
    "## <a id='toc2_3_'></a>[TFIDF](#toc0_)\n",
    "- numerical statistic that reflects the importance of a term in a document within a larger collection of documents.\n",
    "- relative importance of each term within each document based on their TF-IDF scores.\n",
    "- Higher TF-IDF values indicate more significant terms within the document corpus.\n",
    "\n",
    "Example of TFIDF"
   ]
  },
  {
   "cell_type": "code",
   "execution_count": 113,
   "metadata": {},
   "outputs": [
    {
     "data": {
      "text/html": [
       "<div>\n",
       "<style scoped>\n",
       "    .dataframe tbody tr th:only-of-type {\n",
       "        vertical-align: middle;\n",
       "    }\n",
       "\n",
       "    .dataframe tbody tr th {\n",
       "        vertical-align: top;\n",
       "    }\n",
       "\n",
       "    .dataframe thead th {\n",
       "        text-align: right;\n",
       "    }\n",
       "</style>\n",
       "<table border=\"1\" class=\"dataframe\">\n",
       "  <thead>\n",
       "    <tr style=\"text-align: right;\">\n",
       "      <th></th>\n",
       "      <th>around</th>\n",
       "      <th>children</th>\n",
       "      <th>fire</th>\n",
       "      <th>for</th>\n",
       "      <th>man</th>\n",
       "      <th>out</th>\n",
       "      <th>sat</th>\n",
       "      <th>the</th>\n",
       "      <th>walk</th>\n",
       "      <th>went</th>\n",
       "    </tr>\n",
       "  </thead>\n",
       "  <tbody>\n",
       "    <tr>\n",
       "      <th>0</th>\n",
       "      <td>0.000000</td>\n",
       "      <td>0.000000</td>\n",
       "      <td>0.000000</td>\n",
       "      <td>0.42616</td>\n",
       "      <td>0.42616</td>\n",
       "      <td>0.42616</td>\n",
       "      <td>0.000000</td>\n",
       "      <td>0.303216</td>\n",
       "      <td>0.42616</td>\n",
       "      <td>0.42616</td>\n",
       "    </tr>\n",
       "    <tr>\n",
       "      <th>1</th>\n",
       "      <td>0.407401</td>\n",
       "      <td>0.407401</td>\n",
       "      <td>0.407401</td>\n",
       "      <td>0.00000</td>\n",
       "      <td>0.00000</td>\n",
       "      <td>0.00000</td>\n",
       "      <td>0.407401</td>\n",
       "      <td>0.579739</td>\n",
       "      <td>0.00000</td>\n",
       "      <td>0.00000</td>\n",
       "    </tr>\n",
       "  </tbody>\n",
       "</table>\n",
       "</div>"
      ],
      "text/plain": [
       "     around  children      fire      for      man      out       sat  \\\n",
       "0  0.000000  0.000000  0.000000  0.42616  0.42616  0.42616  0.000000   \n",
       "1  0.407401  0.407401  0.407401  0.00000  0.00000  0.00000  0.407401   \n",
       "\n",
       "        the     walk     went  \n",
       "0  0.303216  0.42616  0.42616  \n",
       "1  0.579739  0.00000  0.00000  "
      ]
     },
     "execution_count": 113,
     "metadata": {},
     "output_type": "execute_result"
    }
   ],
   "source": [
    "documentA = 'the man went out for a walk'\n",
    "documentB = 'the children sat around the fire'\n",
    "\n",
    "vectorizer = TfidfVectorizer()\n",
    "tfidf_matrix = vectorizer.fit_transform([documentA, documentB])\n",
    "feature_names = vectorizer.get_feature_names_out()\n",
    "df = pd.DataFrame(tfidf_matrix.toarray(), columns=feature_names)\n",
    "df"
   ]
  },
  {
   "attachments": {},
   "cell_type": "markdown",
   "metadata": {},
   "source": [
    "## <a id='toc2_4_'></a>[Cosine Similarity](#toc0_)\n",
    "It is the measurement that quantifies the similarity between two or more non-zero vectors"
   ]
  },
  {
   "cell_type": "code",
   "execution_count": 132,
   "metadata": {},
   "outputs": [
    {
     "name": "stdout",
     "output_type": "stream",
     "text": [
      "Similarity: 0.6694188517266485\n"
     ]
    }
   ],
   "source": [
    "# Example usage\n",
    "document1 = \"Information Retrieval can be hard\"\n",
    "document2 = \" Information Retrieval can be simple\"\n",
    "\n",
    "# Create the TF-IDF vectorizer\n",
    "vectorizer = TfidfVectorizer()\n",
    "\n",
    "# Fit and transform the documents\n",
    "tfidf_matrix = vectorizer.fit_transform([document1, document2])\n",
    "\n",
    "# Calculate the cosine similarity\n",
    "similarity = cosine_similarity(tfidf_matrix[0], tfidf_matrix[1])\n",
    "\n",
    "similarity_score = similarity[0][0]\n",
    "print(\"Similarity:\", similarity_score)"
   ]
  },
  {
   "attachments": {},
   "cell_type": "markdown",
   "metadata": {},
   "source": [
    "# <a id='toc3_'></a>[Search Engine Practical](#toc0_)"
   ]
  },
  {
   "attachments": {},
   "cell_type": "markdown",
   "metadata": {},
   "source": [
    "## <a id='toc3_1_'></a>[Document Collection](#toc0_)"
   ]
  },
  {
   "cell_type": "code",
   "execution_count": null,
   "metadata": {},
   "outputs": [],
   "source": [
    "BASE_URL = 'https://pureportal.coventry.ac.uk/'\n",
    "RCIH_publications = BASE_URL + 'en/organisations/centre-for-intelligent-healthcare/publications/'\n",
    "\n",
    "print(\"Scraping\")\n",
    "\n",
    "research_output = []\n",
    "url_path = RCIH_publications\n",
    "while url_path is not None:\n",
    "    print(\".\", end=\"\")\n",
    "    response = requests.get(url_path)\n",
    "    soup = BeautifulSoup(response.content, \"html.parser\")\n",
    "    li_item_tags = soup.find_all('li', class_= 'list-result-item')\n",
    "    for li_item in li_item_tags:\n",
    "        research_link = li_item.find('a')['href']\n",
    "        authors = [{'author':author.text, 'url': author['href']} for author in li_item.findAll('a', 'link person')]\n",
    "        published_date = li_item.find('span', class_='date').text\n",
    "        title = li_item.find('h3', class_='title').text\n",
    "        categories = [concept.text for concept in li_item.findAll('span', class_ = 'concept')]\n",
    "        imp = lemmatize_stmt(title)  + ' ' + \\\n",
    "            \" \".join([author['url'].split('/')[-1].replace('-', ' ') for author in authors]) + ' ' + \\\n",
    "                lemmatize_stmt(\" \".join(categories)) + ' ' + \\\n",
    "            lemmatize_stmt(published_date)\n",
    "        research_output.append({\"authors\":authors, \"published_date\":published_date, \"title\":title, \"research_link\": research_link, \"categories\": categories, \"imp\": imp})\n",
    "    nextLinkTag = soup.find('a', class_ = 'nextLink')\n",
    "    if nextLinkTag is not None:\n",
    "        url_path = BASE_URL+nextLinkTag['href']\n",
    "    else:\n",
    "        url_path = None\n",
    "print('\\nTotal Document Scrapped:', len(research_output))"
   ]
  },
  {
   "cell_type": "code",
   "execution_count": null,
   "metadata": {},
   "outputs": [],
   "source": [
    "# Dump scraped data to json file\n",
    "with open('./scraped_data/rcih_research_output.json', 'w') as f:\n",
    "    json.dump(research_output, f, indent=4)"
   ]
  },
  {
   "attachments": {},
   "cell_type": "markdown",
   "metadata": {},
   "source": [
    "## <a id='toc3_2_'></a>[Inverted Index Construction](#toc0_)"
   ]
  },
  {
   "cell_type": "code",
   "execution_count": 24,
   "metadata": {},
   "outputs": [],
   "source": [
    "inverted_index = {}\n",
    "with open('./scraped_data/rcih_research_output.json') as f:\n",
    "    rcih_research = json.loads(f.read())\n",
    "\n",
    "for doc_id, doc in enumerate(rcih_research):\n",
    "    imp = lemmatize_stmt(doc['title']  + ' ' + \" \".join(doc['categories']) + ' ' + doc['published_date']) + ' ' + \\\n",
    "            \" \".join([author['url'].split('/')[-1].replace('-', ' ') for author in doc['authors']])\n",
    "    for term in imp.split():\n",
    "        if term not in inverted_index:\n",
    "            inverted_index[term] = set()\n",
    "        inverted_index[term].add(doc_id)\n",
    "\n",
    "# Converting Set to List\n",
    "for key in inverted_index:\n",
    "    inverted_index[key] = list(inverted_index[key])\n",
    "\n",
    "with open('./scraped_data/inverted_index.json', 'w') as f:\n",
    "    json.dump(inverted_index, f, indent=4)"
   ]
  },
  {
   "attachments": {},
   "cell_type": "markdown",
   "metadata": {},
   "source": [
    "## <a id='toc3_3_'></a>[Search Engine Feature](#toc0_)"
   ]
  },
  {
   "cell_type": "code",
   "execution_count": 117,
   "metadata": {},
   "outputs": [],
   "source": [
    "query = 'ioannis kyrou COVID-19 Diabetes'\n",
    "lemmatized_query = [lemmatize_stmt(query)]"
   ]
  },
  {
   "cell_type": "code",
   "execution_count": 118,
   "metadata": {},
   "outputs": [],
   "source": [
    "with open('./scraped_data/inverted_index.json') as f:\n",
    "    inverted_index = json.loads(f.read())\n",
    "with open('./scraped_data/rcih_research_output.json') as f:\n",
    "    rcih_research = json.loads(f.read())"
   ]
  },
  {
   "cell_type": "code",
   "execution_count": 133,
   "metadata": {},
   "outputs": [],
   "source": [
    "# Get Documents from Inverted Index\n",
    "token_docs_set = set()\n",
    "for query_token in lemmatized_query[0].split():\n",
    "    token_docs = inverted_index[query_token]\n",
    "    token_docs_set.update(token_docs)\n",
    "sorted_token_docs_set = sorted(token_docs_set)\n",
    "\n",
    "processed_research = []\n",
    "for doc_id in sorted_token_docs_set:\n",
    "    processed_research.append(rcih_research[doc_id])\n",
    "\n",
    "df = pd.DataFrame.from_dict(processed_research)"
   ]
  },
  {
   "cell_type": "code",
   "execution_count": 126,
   "metadata": {},
   "outputs": [
    {
     "name": "stdout",
     "output_type": "stream",
     "text": [
      "Position 1\n",
      "Relevance Score: 27.84 %\n",
      "Title: Digitally enabled flash glucose monitoring for inpatients with COVID-19: Feasibility and pilot implementation in a teaching NHS Hospital in the UK\n",
      "Authors: Clark, C. C. T. | Kyrou, I.\n",
      "Categories: Inpatient | Glucose | COVID-19 | Monitoring | Hemoglobin A1c\n",
      "----------------------------------------\n",
      "Position 2\n",
      "Relevance Score: 25.17 %\n",
      "Title: Healthcare staff perceptions following inoculation with the BNT162b2 mRNA COVID-19 vaccine at University Hospitals Coventry & Warwickshire NHS trust\n",
      "Authors: Kyrou, I. | Clark, C.\n",
      "Categories: COVID-19 | Vaccine | Perception | Messenger RNA | Side Effect\n",
      "----------------------------------------\n",
      "Position 3\n",
      "Relevance Score: 21.6 %\n",
      "Title: Potential metabolic and inflammatory pathways between COVID-19 and new-onset diabetes\n",
      "Authors: Tapp, R.\n",
      "Categories: COVID-19 | Diabetes | Diabetes Mellitus | Severe Acute Respiratory Syndrome Coronavirus 2\n",
      "----------------------------------------\n",
      "Position 4\n",
      "Relevance Score: 21.29 %\n",
      "Title: Sleep Disruption and Depression, Stress and Anxiety Levels in Women With Polycystic Ovary Syndrome (PCOS) During the Lockdown Measures for COVID-19 in the UK\n",
      "Authors: McGregor, G. | Clark, C. C. T. | Kyrou, I.\n",
      "Categories: Polycystic Ovary | Sleep | Depression | Anxiety | Comorbidity\n",
      "----------------------------------------\n",
      "Position 5\n",
      "Relevance Score: 20.11 %\n",
      "Title: Hyperbaric oxygen therapy for the treatment of long COVID: early evaluation of a highly promising intervention\n",
      "Authors: Clark, C. | Kyrou, I.\n",
      "Categories: Hyperbaric Medicine | Postcovid Syndrome | Fatigue | Therapeutic Procedure | Evaluation Study\n",
      "----------------------------------------\n",
      "Position 6\n",
      "Relevance Score: 20.01 %\n",
      "Title: Uncertainty, Anxiety and Isolation: Experiencing the COVID-19 Pandemic and Lockdown as a Woman with Polycystic Ovary Syndrome (PCOS)\n",
      "Authors: McGregor, G. | Clark, C. C. T. | Kyrou, I.\n",
      "Categories: Woman | Ovary Polycystic Disease | Polycystic Ovary | Healthcare | Mental Health\n",
      "----------------------------------------\n",
      "Position 7\n",
      "Relevance Score: 19.98 %\n",
      "Title: The Effects of COVID-19 Lockdown on Glycaemic Control and Lipid Profile in Patients with Type 2 Diabetes: A Systematic Review and Meta-Analysis\n",
      "Authors: Adegboye, A. R. A.\n",
      "Categories: COVID-19 | Inpatient | Systematic Review | Patient with Type 2 Diabetes | Enalapril Maleate\n",
      "----------------------------------------\n",
      "Position 8\n",
      "Relevance Score: 18.32 %\n",
      "Title: Changes in physical activity and sedentary behaviour due to enforced covid-19-related lockdown and movement restrictions: A protocol for a systematic review and meta-analysis\n",
      "Authors: Clark, C. C. T. | Denton, F. | McGregor, G. | Harwood, A. E. | Broom, D. R. | Kyrou, I.\n",
      "Categories: Physical Activity | Sedentary Behavior | Behavior (Neuroscience) | Systematic Literature Review | Systematic Review\n",
      "----------------------------------------\n",
      "Position 9\n",
      "Relevance Score: 14.45 %\n",
      "Title: Capability, Opportunity, and Motivation—Identifying Constructs for Increasing Physical Activity Behaviours in Women with Polycystic Ovary Syndrome (PCOS)\n",
      "Authors: McGregor, G. | Clark, C. C. T. | Kyrou, I.\n",
      "Categories: Physical Activity | Woman | Motivation | Polycystic Ovary Syndrome | Physical Activity Level\n",
      "----------------------------------------\n",
      "Position 10\n",
      "Relevance Score: 14.28 %\n",
      "Title: Remote maintenance cardiac rehabilitation (MAINTAIN): A protocol for a randomised feasibility study\n",
      "Authors: Denton, F. | Waddell, A. | Powell, R. | Clark, C. | Kyrou, I. | Harwood, A. E. | McGregor, G.\n",
      "Categories: Heart Rehabilitation | Exercise | Ischemic Heart Disease | Physical Activity | Randomized Controlled Trial\n",
      "----------------------------------------\n"
     ]
    }
   ],
   "source": [
    "vectorizer = TfidfVectorizer()\n",
    "document_vectors = vectorizer.fit_transform(df['imp'])\n",
    "query_vector = vectorizer.transform(lemmatized_query)\n",
    "\n",
    "# Calculate cosine similarity between search query and documents\n",
    "cosine_similarities = cosine_similarity(query_vector, document_vectors).flatten()\n",
    "# Sort the documents based on cosine similarity scores\n",
    "sorted_indices = cosine_similarities.argsort()[::-1]\n",
    "for i in range(10):\n",
    "    index = sorted_indices[i]\n",
    "    relevant_document = df.iloc[index]\n",
    "    relevance_score = round(cosine_similarities[index] * 100,2)\n",
    "    print('Position', i+1)\n",
    "    print('Relevance Score:', relevance_score, '%' )\n",
    "    print('Title:', relevant_document[\"title\"])\n",
    "    print('Authors:', ' | '.join([author['author'] for author in relevant_document['authors']]))\n",
    "    print('Categories:', ' | '.join([category for category in relevant_document['categories']]))\n",
    "    print('----------------------------------------')"
   ]
  },
  {
   "attachments": {},
   "cell_type": "markdown",
   "metadata": {},
   "source": [
    "# <a id='toc4_'></a>[Text Classifier](#toc0_)\n",
    "Identify whether the input scientific document is from the listed cases: \n",
    "- Health\n",
    "- Business\n",
    "- Sport\n",
    "\n",
    "Training Data link : https://www.kaggle.com/datasets/rmisra/news-category-dataset"
   ]
  },
  {
   "attachments": {},
   "cell_type": "markdown",
   "metadata": {},
   "source": [
    "## <a id='toc4_1_'></a>[Get Training Data](#toc0_)"
   ]
  },
  {
   "cell_type": "code",
   "execution_count": 4,
   "metadata": {},
   "outputs": [],
   "source": [
    "news_df = pd.read_json('News_Category_Dataset_v3.json', lines=True)"
   ]
  },
  {
   "cell_type": "code",
   "execution_count": 7,
   "metadata": {},
   "outputs": [],
   "source": [
    "training_news_df = news_df[news_df['category'].isin(['BUSINESS', \"SPORTS\", \"HEALTHY LIVING\"])]\n",
    "training_news_df.loc[training_news_df['category']== \"HEALTHY LIVING\" , 'category'] = \"HEALTH\"\n",
    "training_news_df = training_news_df[['short_description', 'category']]\n",
    "training_news_df['short_description'] = training_news_df['short_description'].apply(lemmatize_stmt)\n",
    "training_news_df.to_pickle(\"training_news_df.pkl\")"
   ]
  },
  {
   "cell_type": "code",
   "execution_count": 8,
   "metadata": {},
   "outputs": [
    {
     "data": {
      "image/png": "[encoded data removed]",
      "text/plain": [
       "<Figure size 640x480 with 1 Axes>"
      ]
     },
     "metadata": {},
     "output_type": "display_data"
    }
   ],
   "source": [
    "import matplotlib.pyplot as plt\n",
    "\n",
    "value_counts = training_news_df['category'].value_counts()\n",
    "\n",
    "plt.bar(value_counts.index, value_counts.values)\n",
    "plt.title('Distinct Count')\n",
    "plt.show()"
   ]
  },
  {
   "attachments": {},
   "cell_type": "markdown",
   "metadata": {},
   "source": [
    "## <a id='toc4_2_'></a>[MultinomialNB classifier](#toc0_)"
   ]
  },
  {
   "cell_type": "code",
   "execution_count": 20,
   "metadata": {},
   "outputs": [
    {
     "name": "stdout",
     "output_type": "stream",
     "text": [
      "Training Complete\n"
     ]
    }
   ],
   "source": [
    "training_news_df = pd.read_pickle('training_news_df.pkl')\n",
    "\n",
    "# Sample training data\n",
    "texts = training_news_df['short_description'].tolist()\n",
    "labels = training_news_df['category'].tolist()\n",
    "# Create feature vectors\n",
    "vectorizer = CountVectorizer()\n",
    "X = vectorizer.fit_transform(texts)\n",
    "classifier = MultinomialNB()\n",
    "\n",
    "# Split data into training and testing sets\n",
    "X_train, X_test, y_train, y_test = train_test_split(X, labels, test_size=0.2, random_state=42)\n",
    "\n",
    "# Train the classifier\n",
    "classifier.fit(X_train, y_train)\n",
    "\n",
    "test_texts = [\"\"\"\n",
    "They fell short in what was virtually a must-win game, with the added significance of being on free-to-air television and with the opportunity to make their mark on the eager crowd that roared and applauded every England run and wicket with vigour.\n",
    "\n",
    "And they felt the disappointment, too - but there was a bigger picture.\n",
    "\n",
    "Ten years ago to the day, Nat Sciver-Brunt made her England debut against Pakistan at Louth, where spectators were few and far between and most likely consisted mostly of the players' families.\n",
    "\n",
    "But for England's debutant at Edgbaston, all-rounder Danielle Gibson, the experience could not be more of a contrast - and in the most brilliant, inspiring way.\n",
    "\n",
    "Gibson was clapped in to bowl like an Olympic long jumper at the start of their mark, each dot ball cheered like a wicket and every run saved greeted with raucous appreciation.\n",
    "\n",
    "There was diversity in numbers, too - children danced for the camera, groups of friends dressed up as Super Mario and lifeguards, boys donning England shirts with 'Knight' and 'Sciver-Brunt' on the back.\n",
    "\n",
    "As England fought back in the closing overs with three late wickets to ignite hopes of a shock victory, the crowd savoured every emotion with them.\n",
    "\"\"\"]\n",
    "test_X = vectorizer.transform(test_texts)\n",
    "test_predictions = classifier.predict(test_X)\n",
    "print('Predictions:', test_predictions)"
   ]
  },
  {
   "attachments": {},
   "cell_type": "markdown",
   "metadata": {},
   "source": [
    "## <a id='toc4_3_'></a>[Metric Report](#toc0_)\n",
    "\n",
    "Evaluate the performance of classification models."
   ]
  },
  {
   "cell_type": "code",
   "execution_count": 19,
   "metadata": {},
   "outputs": [
    {
     "name": "stdout",
     "output_type": "stream",
     "text": [
      "Training Accuracy: 0.802603800140746\n",
      "Testing Accuracy: 0.7261469180973825\n",
      "F1 Score: 0.7249536376495858\n",
      "\n",
      "Classification Report:\n",
      "              precision    recall  f1-score   support\n",
      "\n",
      "    BUSINESS       0.80      0.66      0.72      1197\n",
      "      HEALTH       0.64      0.86      0.74      1350\n",
      "      SPORTS       0.84      0.62      0.71      1006\n",
      "\n",
      "    accuracy                           0.73      3553\n",
      "   macro avg       0.76      0.71      0.72      3553\n",
      "weighted avg       0.75      0.73      0.72      3553\n",
      "\n"
     ]
    }
   ],
   "source": [
    "from sklearn.metrics import confusion_matrix, f1_score, accuracy_score, classification_report\n",
    "\n",
    "# Test the classifier on training data\n",
    "train_predictions = classifier.predict(X_train)\n",
    "train_accuracy = accuracy_score(y_train, train_predictions)\n",
    "print('Training Accuracy:', train_accuracy)\n",
    "\n",
    "# Test the classifier on testing data\n",
    "test_predictions = classifier.predict(X_test)\n",
    "test_accuracy = accuracy_score(y_test, test_predictions)\n",
    "print('Testing Accuracy:', test_accuracy)\n",
    "\n",
    "# Calculate the confusion matrix\n",
    "conf_matrix = confusion_matrix(y_test, test_predictions)\n",
    "\n",
    "# Calculate the F1 score\n",
    "f1 = f1_score(y_test, test_predictions, average='weighted')\n",
    "print('F1 Score:', f1)\n",
    "\n",
    "# Print classification report\n",
    "class_report = classification_report(y_test, test_predictions)\n",
    "print('\\nClassification Report:')\n",
    "print(class_report)"
   ]
  },
  {
   "cell_type": "code",
   "execution_count": 15,
   "metadata": {},
   "outputs": [
    {
     "data": {
      "image/png": "[encoded data removed]",
      "text/plain": [
       "<Figure size 800x600 with 1 Axes>"
      ]
     },
     "metadata": {},
     "output_type": "display_data"
    }
   ],
   "source": [
    "import seaborn as sns\n",
    "\n",
    "plt.figure(figsize=(8, 6))\n",
    "sns.heatmap(conf_matrix, annot=True, fmt='d', cmap='Blues', cbar=False)\n",
    "plt.xlabel('Predicted Labels')\n",
    "plt.ylabel('True Labels')\n",
    "plt.title('Confusion Matrix')\n",
    "plt.show()"
   ]
  }
 ],
 "metadata": {
  "kernelspec": {
   "display_name": "Python 3",
   "language": "python",
   "name": "python3"
  },
  "language_info": {
   "codemirror_mode": {
    "name": "ipython",
    "version": 3
   },
   "file_extension": ".py",
   "mimetype": "text/x-python",
   "name": "python",
   "nbconvert_exporter": "python",
   "pygments_lexer": "ipython3",
   "version": "3.11.4"
  },
  "orig_nbformat": 4
 },
 "nbformat": 4,
 "nbformat_minor": 2
}
